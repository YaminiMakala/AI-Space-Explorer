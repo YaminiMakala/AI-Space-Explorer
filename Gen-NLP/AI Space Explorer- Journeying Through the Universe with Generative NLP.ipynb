{
 "cells": [
  {
   "cell_type": "code",
   "execution_count": 1,
   "id": "52bc15c7",
   "metadata": {},
   "outputs": [],
   "source": [
    "import pandas as pd  # For data manipulation\n",
    "import spacy  # For natural language processing\n",
    "from sklearn.feature_extraction.text import TfidfVectorizer  # For TF-IDF vectorization\n",
    "from sklearn.metrics.pairwise import cosine_similarity  # For cosine similarity"
   ]
  },
  {
   "cell_type": "code",
   "execution_count": 2,
   "id": "85b35cb9",
   "metadata": {},
   "outputs": [],
   "source": [
    "data = pd.read_csv('qa.csv')"
   ]
  },
  {
   "cell_type": "code",
   "execution_count": 3,
   "id": "2fcd71eb",
   "metadata": {},
   "outputs": [],
   "source": [
    "nlp = spacy.load(\"en_core_web_sm\")"
   ]
  },
  {
   "cell_type": "code",
   "execution_count": 4,
   "id": "4e8219ec",
   "metadata": {},
   "outputs": [],
   "source": [
    "data['Question'] = data['Question'].fillna('')"
   ]
  },
  {
   "cell_type": "code",
   "execution_count": 5,
   "id": "8d657e0a",
   "metadata": {},
   "outputs": [],
   "source": [
    "def preprocess_text(text):\n",
    "    doc = nlp(text)  \n",
    "    tokens = [token.lemma_.lower() for token in doc if not token.is_stop and token.is_alpha]\n",
    "    return \" \".join(tokens)"
   ]
  },
  {
   "cell_type": "code",
   "execution_count": 6,
   "id": "52338b7a",
   "metadata": {},
   "outputs": [],
   "source": [
    "data['Question'] = data['Question'].apply(preprocess_text)"
   ]
  },
  {
   "cell_type": "code",
   "execution_count": 7,
   "id": "baa78748",
   "metadata": {},
   "outputs": [],
   "source": [
    "vectorizer = TfidfVectorizer()  \n",
    "X = vectorizer.fit_transform(data['Question'])  "
   ]
  },
  {
   "cell_type": "code",
   "execution_count": 8,
   "id": "ef826b2d",
   "metadata": {},
   "outputs": [],
   "source": [
    "def answer_question(question):\n",
    "    question = preprocess_text(question)  \n",
    "    question_vec = vectorizer.transform([question])  \n",
    "    similarities = cosine_similarity(question_vec, X)  \n",
    "    most_similar_index = similarities.argmax()  \n",
    "    return data.iloc[most_similar_index]['Answer']  "
   ]
  },
  {
   "cell_type": "code",
   "execution_count": 9,
   "id": "1cf52366",
   "metadata": {},
   "outputs": [
    {
     "name": "stdout",
     "output_type": "stream",
     "text": [
      "Ask a question (type 'exit' to quit): what is black hole?\n",
      "Answer:  and vice versa.\n",
      "Ask a question (type 'exit' to quit): exit\n"
     ]
    }
   ],
   "source": [
    "while True:\n",
    "    user_question = input(\"Ask a question (type 'exit' to quit): \")  \n",
    "    if user_question.lower() == 'exit':  \n",
    "        break  \n",
    "    answer = answer_question(user_question)  \n",
    "    print(\"Answer:\", answer)  "
   ]
  },
  {
   "cell_type": "code",
   "execution_count": null,
   "id": "fc20ab42",
   "metadata": {},
   "outputs": [],
   "source": []
  }
 ],
 "metadata": {
  "kernelspec": {
   "display_name": "Python 3 (ipykernel)",
   "language": "python",
   "name": "python3"
  },
  "language_info": {
   "codemirror_mode": {
    "name": "ipython",
    "version": 3
   },
   "file_extension": ".py",
   "mimetype": "text/x-python",
   "name": "python",
   "nbconvert_exporter": "python",
   "pygments_lexer": "ipython3",
   "version": "3.9.7"
  }
 },
 "nbformat": 4,
 "nbformat_minor": 5
}
